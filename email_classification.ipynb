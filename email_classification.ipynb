{
 "cells": [
  {
   "cell_type": "markdown",
   "metadata": {
    "cellId": "18fs92kihvdkj54tr271d"
   },
   "source": [
    "#### Анализ проблемы (что за задача решается, почему она важна)"
   ]
  },
  {
   "cell_type": "markdown",
   "metadata": {
    "cellId": "49y0xguv4d9vn9d6a09g0t"
   },
   "source": [
    "В рамках проекта мне было интересно попробовать определять категории писем на спам - не спам, основываясь на содержании сообщений.\n",
    "\n",
    "Данная задача остается актуальной и на сегодняшний день, потому что в эпоху интернета людям на почту могут приходить письма-паразиты, на которые не хочется уделять никакого внимания. С этим может помочь создание модели, которая автоматически будет определять куда положить письмо в вашей почте. Это ли не прекрасно?\n",
    "\n",
    "Изучив проблематику проблемы со спамом оказывается, что ежедневно через Интернет отправляется около 20 миллиардов электронных писем с категорией не спам, а это только 15% от общего количества электронных писем. Все отальные электронные письма являются спамом, то есть ежедневно рассылается более 120 миллиардов спам-сообщений.\n",
    "\n",
    "Приступим к задаче"
   ]
  },
  {
   "cell_type": "markdown",
   "metadata": {
    "cellId": "z013mmc3secv6ppgfdp2i"
   },
   "source": [
    "#### EDA датасета (дисбаланс, метрики, особенности)"
   ]
  },
  {
   "cell_type": "markdown",
   "metadata": {
    "cellId": "x77vn4qpwfl4wtrzjzlpq"
   },
   "source": [
    "Подобрав датасет из kaggle.com, я убедился в том, что он состоит из 5572 сообщений."
   ]
  },
  {
   "cell_type": "code",
   "execution_count": 17,
   "metadata": {
    "cellId": "rrnidcbruv11kw74wm4xgk"
   },
   "outputs": [
    {
     "name": "stdout",
     "output_type": "stream",
     "text": [
      "  Category                                            Message\n",
      "0      ham  Go until jurong point, crazy.. Available only ...\n",
      "1      ham                      Ok lar... Joking wif u oni...\n",
      "2     spam  Free entry in 2 a wkly comp to win FA Cup fina...\n",
      "3      ham  U dun say so early hor... U c already then say...\n",
      "4      ham  Nah I don't think he goes to usf, he lives aro...\n",
      "(5572, 2)\n"
     ]
    }
   ],
   "source": [
    "import pandas as pd\n",
    "\n",
    "raw = pd.read_csv(\"messages.csv\")\n",
    "print(raw.head())\n",
    "print(raw.shape)"
   ]
  },
  {
   "cell_type": "markdown",
   "metadata": {
    "cellId": "ws0jw8o2v5olmi924vop2"
   },
   "source": [
    "Удалив дубликаты, оказалось, что дальше мы будем работать с 5157 сообщениями, что довольно много для определения спама"
   ]
  },
  {
   "cell_type": "code",
   "execution_count": 18,
   "metadata": {
    "cellId": "bahr0a9ke2cmn5elyb3s4n"
   },
   "outputs": [
    {
     "name": "stdout",
     "output_type": "stream",
     "text": [
      "  Category                                            Message\n",
      "0      ham  Go until jurong point, crazy.. Available only ...\n",
      "1      ham                      Ok lar... Joking wif u oni...\n",
      "2     spam  Free entry in 2 a wkly comp to win FA Cup fina...\n",
      "3      ham  U dun say so early hor... U c already then say...\n",
      "4      ham  Nah I don't think he goes to usf, he lives aro...\n",
      "(5157, 2)\n"
     ]
    }
   ],
   "source": [
    "data = raw.drop_duplicates(subset = [\"Message\"])\n",
    "print(data.head())\n",
    "print(data.shape)"
   ]
  },
  {
   "cell_type": "markdown",
   "metadata": {
    "cellId": "x4bta3ywfpil1n6n6rwz88"
   },
   "source": [
    "Также нам стоит замениь категории на числовые эквиваленты, чтобы качественнее работать с моделями  \n",
    "1 - спам  \n",
    "0 - не спам"
   ]
  },
  {
   "cell_type": "code",
   "execution_count": 19,
   "metadata": {
    "cellId": "bzgkieroxzqddkr24389i4"
   },
   "outputs": [
    {
     "name": "stderr",
     "output_type": "stream",
     "text": [
      "<ipython-input-5-91f965c93ebe>:1: SettingWithCopyWarning: \n",
      "A value is trying to be set on a copy of a slice from a DataFrame.\n",
      "Try using .loc[row_indexer,col_indexer] = value instead\n",
      "\n",
      "See the caveats in the documentation: https://pandas.pydata.org/pandas-docs/stable/user_guide/indexing.html#returning-a-view-versus-a-copy\n",
      "  data[\"Category\"] = data[\"Category\"].apply(lambda x: 1 if x == \"spam\" else 0)\n"
     ]
    },
    {
     "data": {
      "text/html": [
       "<div>\n",
       "<style scoped>\n",
       "    .dataframe tbody tr th:only-of-type {\n",
       "        vertical-align: middle;\n",
       "    }\n",
       "\n",
       "    .dataframe tbody tr th {\n",
       "        vertical-align: top;\n",
       "    }\n",
       "\n",
       "    .dataframe thead th {\n",
       "        text-align: right;\n",
       "    }\n",
       "</style>\n",
       "<table border=\"1\" class=\"dataframe\">\n",
       "  <thead>\n",
       "    <tr style=\"text-align: right;\">\n",
       "      <th></th>\n",
       "      <th>Category</th>\n",
       "      <th>Message</th>\n",
       "    </tr>\n",
       "  </thead>\n",
       "  <tbody>\n",
       "    <tr>\n",
       "      <th>0</th>\n",
       "      <td>0</td>\n",
       "      <td>Go until jurong point, crazy.. Available only ...</td>\n",
       "    </tr>\n",
       "    <tr>\n",
       "      <th>1</th>\n",
       "      <td>0</td>\n",
       "      <td>Ok lar... Joking wif u oni...</td>\n",
       "    </tr>\n",
       "    <tr>\n",
       "      <th>2</th>\n",
       "      <td>1</td>\n",
       "      <td>Free entry in 2 a wkly comp to win FA Cup fina...</td>\n",
       "    </tr>\n",
       "    <tr>\n",
       "      <th>3</th>\n",
       "      <td>0</td>\n",
       "      <td>U dun say so early hor... U c already then say...</td>\n",
       "    </tr>\n",
       "    <tr>\n",
       "      <th>4</th>\n",
       "      <td>0</td>\n",
       "      <td>Nah I don't think he goes to usf, he lives aro...</td>\n",
       "    </tr>\n",
       "  </tbody>\n",
       "</table>\n",
       "</div>"
      ],
      "text/plain": [
       "   Category                                            Message\n",
       "0         0  Go until jurong point, crazy.. Available only ...\n",
       "1         0                      Ok lar... Joking wif u oni...\n",
       "2         1  Free entry in 2 a wkly comp to win FA Cup fina...\n",
       "3         0  U dun say so early hor... U c already then say...\n",
       "4         0  Nah I don't think he goes to usf, he lives aro..."
      ]
     },
     "execution_count": 19,
     "metadata": {},
     "output_type": "execute_result"
    }
   ],
   "source": [
    "data[\"Category\"] = data[\"Category\"].apply(lambda x: 1 if x == \"spam\" else 0)\n",
    "data.head()"
   ]
  },
  {
   "cell_type": "markdown",
   "metadata": {
    "cellId": "iy8prgg3ncoc16433wxao5"
   },
   "source": [
    "После построения графиков оказалось, что 12% сообщений помечены как спам, а остальные 88% — как не спам. "
   ]
  },
  {
   "cell_type": "code",
   "execution_count": 20,
   "metadata": {
    "cellId": "4q837mpfqh8xx0tb2jvf3p"
   },
   "outputs": [
    {
     "data": {
      "image/png": "[encoded data removed]",
      "text/plain": [
       "<Figure size 432x288 with 1 Axes>"
      ]
     },
     "metadata": {},
     "output_type": "display_data"
    }
   ],
   "source": [
    "import matplotlib.pyplot as plt\n",
    "\n",
    "counts = data[\"Category\"].value_counts(normalize=True)\n",
    "plt.pie(counts, labels=['Ham', 'Spam'], autopct='%1.0f%%');"
   ]
  },
  {
   "cell_type": "markdown",
   "metadata": {
    "cellId": "38oqpyiyzoqknvt8wau4kp"
   },
   "source": [
    "Если говорить о количестве, то мы имеем чуть меньше тысячи сообщений со спамом и чуть больше 4000 сообщений без спама."
   ]
  },
  {
   "cell_type": "code",
   "execution_count": 21,
   "metadata": {
    "cellId": "rfs14atqisi6h820cpayfp"
   },
   "outputs": [
    {
     "data": {
      "image/png": "[encoded data removed]",
      "text/plain": [
       "<Figure size 432x288 with 1 Axes>"
      ]
     },
     "metadata": {
      "needs_background": "light"
     },
     "output_type": "display_data"
    }
   ],
   "source": [
    "import seaborn as sns\n",
    "\n",
    "sns.countplot(x=\"Category\", data = data);"
   ]
  },
  {
   "cell_type": "markdown",
   "metadata": {
    "cellId": "zz2rnydu5c1y8z99sli0q"
   },
   "source": [
    "#### Сделали модель ML с использованием предобученных или обученных эмбеддингов"
   ]
  },
  {
   "cell_type": "markdown",
   "metadata": {
    "cellId": "4a9zhv4clagfyecox185eq"
   },
   "source": [
    "Для начала токенизируем слова в сообщениях, чтобы получить целочисленные векторы, где каждое целое число является индексом токена в словаре."
   ]
  },
  {
   "cell_type": "code",
   "execution_count": 22,
   "metadata": {
    "cellId": "ssu1hxv05eagkbtuado8g"
   },
   "outputs": [
    {
     "name": "stderr",
     "output_type": "stream",
     "text": [
      "[nltk_data] Downloading package stopwords to\n",
      "[nltk_data]     /home/jupyter/nltk_data...\n",
      "[nltk_data]   Unzipping corpora/stopwords.zip.\n"
     ]
    },
    {
     "data": {
      "text/plain": [
       "['go',\n",
       " 'jurong',\n",
       " 'point',\n",
       " 'crazy',\n",
       " 'available',\n",
       " 'bugis',\n",
       " 'n',\n",
       " 'great',\n",
       " 'world',\n",
       " 'la',\n",
       " 'e',\n",
       " 'buffet',\n",
       " 'cine',\n",
       " 'got',\n",
       " 'amore',\n",
       " 'wat']"
      ]
     },
     "execution_count": 22,
     "metadata": {},
     "output_type": "execute_result"
    }
   ],
   "source": [
    "import nltk\n",
    "import re\n",
    "import string\n",
    "\n",
    "from nltk.corpus import stopwords\n",
    "\n",
    "nltk.download('stopwords')\n",
    "\n",
    "# Очистка данных с последующей токенизацией слов\n",
    "def clean_text(text):\n",
    "    to_lower_text = text.lower()\n",
    "    to_remove_punctuation = \"\".join([char for char in to_lower_text if char not in string.punctuation])\n",
    "    to_remove_stopwords = [word for word in to_remove_punctuation.split() if word not in stopwords.words('english')]\n",
    "\n",
    "    return to_remove_stopwords\n",
    "\n",
    "clean_text(data[\"Message\"][0])"
   ]
  },
  {
   "cell_type": "markdown",
   "metadata": {
    "cellId": "3dew6qx2yo1t3tyymdmqqq"
   },
   "source": [
    "Применяем TF-IDF embedding для сообщений"
   ]
  },
  {
   "cell_type": "code",
   "execution_count": 23,
   "metadata": {
    "cellId": "jn7it8dz6mqtvn5t87qi1k"
   },
   "outputs": [],
   "source": [
    "from sklearn.feature_extraction.text import TfidfVectorizer\n",
    "\n",
    "message = TfidfVectorizer(analyzer = clean_text).fit_transform(data['Message'])"
   ]
  },
  {
   "cell_type": "markdown",
   "metadata": {
    "cellId": "x87fgvx5ydg2s9lzwp7ewv"
   },
   "source": [
    "Разделяем набор данных на обучающую и тестовую выборки в соотношении 80/20"
   ]
  },
  {
   "cell_type": "code",
   "execution_count": 24,
   "metadata": {
    "cellId": "cmrko9tnrnlftduxjm7zik"
   },
   "outputs": [],
   "source": [
    "from sklearn.model_selection import train_test_split\n",
    "\n",
    "X = message\n",
    "y = data[\"Category\"]\n",
    "\n",
    "X_train, X_test, y_train, y_test = train_test_split(X, y, test_size = 0.20, random_state = 42)"
   ]
  },
  {
   "cell_type": "markdown",
   "metadata": {
    "cellId": "vg6041tzxtctkh2v1c2n9"
   },
   "source": [
    "Определяем загрузчик данных для обучения"
   ]
  },
  {
   "cell_type": "markdown",
   "metadata": {
    "cellId": "325jj16d7yar4z86s074hh"
   },
   "source": [
    "Воспользуемся моделью KNN "
   ]
  },
  {
   "cell_type": "code",
   "execution_count": 25,
   "metadata": {
    "cellId": "6250nq8i7acmf95vlue6fe",
    "scrolled": true
   },
   "outputs": [],
   "source": [
    "from sklearn.neighbors import KNeighborsClassifier\n",
    "\n",
    "neighbors = [3, 5, 10, 15]\n",
    "y_pred_train = []\n",
    "y_pred_tests = []\n",
    "\n",
    "for n in neighbors:\n",
    "    knn_model = KNeighborsClassifier(n_neighbors = n)\n",
    "    knn_model.fit(X_train, y_train)\n",
    "\n",
    "    y_pred_train.append(knn_model.predict(X_train))\n",
    "    y_pred_tests.append(knn_model.predict(X_test))"
   ]
  },
  {
   "cell_type": "markdown",
   "metadata": {
    "cellId": "q6jrd0p3qhg7ok0nyg5oo9"
   },
   "source": [
    "Оценим данные и воспользуемся метриками"
   ]
  },
  {
   "cell_type": "code",
   "execution_count": 26,
   "metadata": {
    "cellId": "x61nuo3lwkpnsv4sll6gln"
   },
   "outputs": [],
   "source": [
    "from sklearn.metrics import accuracy_score, f1_score, confusion_matrix"
   ]
  },
  {
   "cell_type": "markdown",
   "metadata": {
    "cellId": "3gzm65hpqtw6a2r6oasfz8"
   },
   "source": [
    "Поскольку мы работаем с несбалансированным набором данных accuracy_score не является качественной мерой оценки данных, поскольку она не различает количество правильно классифицированных примеров разных классов.  \n",
    "При анализе результатов стоит внимание уделять f1_score, она более точная в плане оценки данных"
   ]
  },
  {
   "cell_type": "code",
   "execution_count": 27,
   "metadata": {
    "cellId": "jdua7ai2ikr6mhrfjvkv"
   },
   "outputs": [
    {
     "name": "stdout",
     "output_type": "stream",
     "text": [
      "\n",
      "Train data\n",
      "\n",
      "accuracy_score for 3 neighbors = 0.9343030303030303\n",
      "f1_score for 3 neighbors       = 0.7986039059717376\n",
      "\n",
      "accuracy_score for 5 neighbors = 0.9132121212121213\n",
      "f1_score for 5 neighbors       = 0.7019012914279993\n",
      "\n",
      "accuracy_score for 10 neighbors = 0.8870303030303031\n",
      "f1_score for 10 neighbors       = 0.5414549968702769\n",
      "\n",
      "accuracy_score for 15 neighbors = 0.9323636363636364\n",
      "f1_score for 15 neighbors       = 0.791128285663002\n",
      "\n",
      "\n",
      "Test data\n",
      "\n",
      "accuracy_score for 3 neighbors = 0.9127906976744186\n",
      "f1_score for 3 neighbors       = 0.728836519484766\n",
      "\n",
      "accuracy_score for 5 neighbors = 0.8992248062015504\n",
      "f1_score for 5 neighbors       = 0.6630500301386377\n",
      "\n",
      "accuracy_score for 10 neighbors = 0.874031007751938\n",
      "f1_score for 10 neighbors       = 0.5084345825211414\n",
      "\n",
      "accuracy_score for 15 neighbors = 0.9215116279069767\n",
      "f1_score for 15 neighbors       = 0.7685092619003442\n",
      "\n"
     ]
    }
   ],
   "source": [
    "print(\"\\nTrain data\\n\")\n",
    "for i in range(len(y_pred_train)):\n",
    "    print(f\"accuracy_score for {neighbors[i]} neighbors = {accuracy_score(y_train, y_pred_train[i])}\")\n",
    "    print(f\"f1_score for {neighbors[i]} neighbors       = {f1_score(y_train, y_pred_train[i],  average='macro')}\")\n",
    "    print()\n",
    "    \n",
    "print(\"\\nTest data\\n\")\n",
    "for i in range(len(y_pred_tests)):\n",
    "    print(f\"accuracy_score for {neighbors[i]} neighbors = {accuracy_score(y_test, y_pred_tests[i])}\")\n",
    "    print(f\"f1_score for {neighbors[i]} neighbors       = {f1_score(y_test, y_pred_tests[i], average='macro')}\")\n",
    "    print()"
   ]
  },
  {
   "cell_type": "markdown",
   "metadata": {
    "cellId": "tm41oqhc56pzxlf9p3yly8"
   },
   "source": [
    "Модель работает неплохо, если вести дальше эксперимент на соседях > 15, возможно результат дойдет и до 80%.  \n",
    "Если судить матрицу ошибок, то почти во всех случаях количество сообщеий, которые определены как спам, хотя такими не являются - крайне мал.  \n",
    "Например, на 15 соседях на тестовой выборке мы имеем лишь 1 ошибку среди 901 сообщения. Я этим доволен.  \n",
    "Однако модель плохо понимает когда перед ней спам, поэтому чаще относит спам к не спаму, этим я не доволен. Попробуем воспользоваться нейронкой и получить результат получше"
   ]
  },
  {
   "cell_type": "code",
   "execution_count": 28,
   "metadata": {
    "cellId": "r37gh1wnr2r7rw44s34bzi"
   },
   "outputs": [
    {
     "name": "stdout",
     "output_type": "stream",
     "text": [
      "\n",
      "Train data\n",
      "\n",
      "confusion_matrix for 3 neighbors\n"
     ]
    },
    {
     "data": {
      "image/png": "[encoded data removed]",
      "text/plain": [
       "<Figure size 432x288 with 1 Axes>"
      ]
     },
     "metadata": {
      "needs_background": "light"
     },
     "output_type": "display_data"
    },
    {
     "name": "stdout",
     "output_type": "stream",
     "text": [
      "\n",
      "confusion_matrix for 5 neighbors\n"
     ]
    },
    {
     "data": {
      "image/png": "[encoded data removed]",
      "text/plain": [
       "<Figure size 432x288 with 1 Axes>"
      ]
     },
     "metadata": {
      "needs_background": "light"
     },
     "output_type": "display_data"
    },
    {
     "name": "stdout",
     "output_type": "stream",
     "text": [
      "\n",
      "confusion_matrix for 10 neighbors\n"
     ]
    },
    {
     "data": {
      "image/png": "[encoded data removed]",
      "text/plain": [
       "<Figure size 432x288 with 1 Axes>"
      ]
     },
     "metadata": {
      "needs_background": "light"
     },
     "output_type": "display_data"
    },
    {
     "name": "stdout",
     "output_type": "stream",
     "text": [
      "\n",
      "confusion_matrix for 15 neighbors\n"
     ]
    },
    {
     "data": {
      "image/png": "[encoded data removed]",
      "text/plain": [
       "<Figure size 432x288 with 1 Axes>"
      ]
     },
     "metadata": {
      "needs_background": "light"
     },
     "output_type": "display_data"
    },
    {
     "name": "stdout",
     "output_type": "stream",
     "text": [
      "\n",
      "\n",
      "Test data\n",
      "\n",
      "confusion_matrix for 3 neighbors\n"
     ]
    },
    {
     "data": {
      "image/png": "[encoded data removed]",
      "text/plain": [
       "<Figure size 432x288 with 1 Axes>"
      ]
     },
     "metadata": {
      "needs_background": "light"
     },
     "output_type": "display_data"
    },
    {
     "name": "stdout",
     "output_type": "stream",
     "text": [
      "\n",
      "confusion_matrix for 5 neighbors\n"
     ]
    },
    {
     "data": {
      "image/png": "[encoded data removed]",
      "text/plain": [
       "<Figure size 432x288 with 1 Axes>"
      ]
     },
     "metadata": {
      "needs_background": "light"
     },
     "output_type": "display_data"
    },
    {
     "name": "stdout",
     "output_type": "stream",
     "text": [
      "\n",
      "confusion_matrix for 10 neighbors\n"
     ]
    },
    {
     "data": {
      "image/png": "[encoded data removed]",
      "text/plain": [
       "<Figure size 432x288 with 1 Axes>"
      ]
     },
     "metadata": {
      "needs_background": "light"
     },
     "output_type": "display_data"
    },
    {
     "name": "stdout",
     "output_type": "stream",
     "text": [
      "\n",
      "confusion_matrix for 15 neighbors\n"
     ]
    },
    {
     "data": {
      "image/png": "[encoded data removed]",
      "text/plain": [
       "<Figure size 432x288 with 1 Axes>"
      ]
     },
     "metadata": {
      "needs_background": "light"
     },
     "output_type": "display_data"
    },
    {
     "name": "stdout",
     "output_type": "stream",
     "text": [
      "\n"
     ]
    }
   ],
   "source": [
    "print(\"\\nTrain data\\n\")\n",
    "for i in range(len(y_pred_train)):\n",
    "    print(f\"confusion_matrix for {neighbors[i]} neighbors\")\n",
    "    confusion_matrix = pd.crosstab(y_train, y_pred_train[i], rownames=['Actual'], colnames=['Predicted'])\n",
    "    sns.heatmap(confusion_matrix, annot = True, cmap = 'Paired', cbar = False, xticklabels=['Not Spam', 'Spam'],  yticklabels=['Not Spam', 'Spam'])\n",
    "    plt.show()\n",
    "    print()\n",
    "    \n",
    "print(\"\\nTest data\\n\")\n",
    "for i in range(len(y_pred_train)):\n",
    "    print(f\"confusion_matrix for {neighbors[i]} neighbors\")\n",
    "    confusion_matrix = pd.crosstab(y_test, y_pred_tests[i], rownames=['Actual'], colnames=['Predicted'])\n",
    "    sns.heatmap(confusion_matrix, annot = True, cmap = 'Paired', cbar = False, xticklabels=['Not Spam', 'Spam'],  yticklabels=['Not Spam', 'Spam'])\n",
    "    plt.show()\n",
    "    print()"
   ]
  },
  {
   "cell_type": "markdown",
   "metadata": {
    "cellId": "fwky762rh059gttaqhmwma"
   },
   "source": [
    "#### Использовали deep learning модель (RNN и/или CNN)"
   ]
  },
  {
   "cell_type": "code",
   "execution_count": 29,
   "metadata": {
    "cellId": "s6biut7ocz2wxiaze4af7",
    "scrolled": true
   },
   "outputs": [
    {
     "name": "stderr",
     "output_type": "stream",
     "text": [
      "2023-12-26 17:02:22.365390: I tensorflow/core/util/port.cc:110] oneDNN custom operations are on. You may see slightly different numerical results due to floating-point round-off errors from different computation orders. To turn them off, set the environment variable `TF_ENABLE_ONEDNN_OPTS=0`.\n",
      "2023-12-26 17:02:23.859058: I tensorflow/core/platform/cpu_feature_guard.cc:182] This TensorFlow binary is optimized to use available CPU instructions in performance-critical operations.\n",
      "To enable the following instructions: AVX2 AVX512F AVX512_VNNI FMA, in other operations, rebuild TensorFlow with the appropriate compiler flags.\n",
      "2023-12-26 17:02:27.673149: W tensorflow/compiler/tf2tensorrt/utils/py_utils.cc:38] TF-TRT Warning: Could not find TensorRT\n"
     ]
    }
   ],
   "source": [
    "from keras.models import Sequential\n",
    "from keras.layers import Dense, LSTM, Dropout"
   ]
  },
  {
   "cell_type": "markdown",
   "metadata": {
    "cellId": "tuvysu67wjpdsk7if8k1o"
   },
   "source": [
    "Воспользуемся следующей RNN моделью"
   ]
  },
  {
   "cell_type": "code",
   "execution_count": 30,
   "metadata": {
    "cellId": "tiu345rsxdzr1tu8o7hxk"
   },
   "outputs": [],
   "source": [
    "class RNNModel:\n",
    "    def __init__(self):\n",
    "        self.regressor = Sequential()\n",
    "\n",
    "    def build_model(self, input_shape):\n",
    "        # Добавление первого слоя LSTM с некоторой регуляризацией Dropout\n",
    "        self.regressor.add(LSTM(units = 30, return_sequences = True, input_shape = input_shape))\n",
    "        # Dropout применяется для предотвращения переобучения путем случайного обнуления нейронов во время обучения.\n",
    "        self.regressor.add(Dropout(0.2))\n",
    "\n",
    "       # Добавление второго слоя LSTM с регуляризацией Dropout\n",
    "        self.regressor.add(LSTM(units = 30, return_sequences = True))\n",
    "        self.regressor.add(Dropout(0.2))\n",
    "\n",
    "        # Финальный слой LSTM без return_sequences\n",
    "        self.regressor.add(LSTM(units = 30))\n",
    "        self.regressor.add(Dropout(0.2))\n",
    "\n",
    "        # Добавление выходного слоя, имеющий 1 нейрон - это будет выход регрессии.\n",
    "        self.regressor.add(Dense(units = 1))\n",
    "\n",
    "        # Компиляция RNN модели\n",
    "        self.regressor.compile(optimizer = 'adam', loss = 'mean_squared_error', metrics = [\"accuracy\"])\n",
    "\n",
    "    def train_model(self, X_train, y_train, epochs, batch_size):\n",
    "        self.regressor.fit(X_train, y_train, epochs = epochs, batch_size = batch_size)"
   ]
  },
  {
   "cell_type": "code",
   "execution_count": 31,
   "metadata": {
    "cellId": "im1u60125ikjsqys022yn"
   },
   "outputs": [
    {
     "name": "stderr",
     "output_type": "stream",
     "text": [
      "2023-12-26 17:02:36.414978: E tensorflow/compiler/xla/stream_executor/cuda/cuda_driver.cc:266] failed call to cuInit: CUDA_ERROR_NO_DEVICE: no CUDA-capable device is detected\n",
      "2023-12-26 17:02:36.985924: I tensorflow/core/common_runtime/executor.cc:1197] [/device:CPU:0] (DEBUG INFO) Executor start aborting (this does not indicate an error and you can ignore this message): INVALID_ARGUMENT: You must feed a value for placeholder tensor 'gradients/split_2_grad/concat/split_2/split_dim' with dtype int32\n",
      "\t [[{{node gradients/split_2_grad/concat/split_2/split_dim}}]]\n",
      "2023-12-26 17:02:36.988111: I tensorflow/core/common_runtime/executor.cc:1197] [/device:CPU:0] (DEBUG INFO) Executor start aborting (this does not indicate an error and you can ignore this message): INVALID_ARGUMENT: You must feed a value for placeholder tensor 'gradients/split_grad/concat/split/split_dim' with dtype int32\n",
      "\t [[{{node gradients/split_grad/concat/split/split_dim}}]]\n",
      "2023-12-26 17:02:36.990614: I tensorflow/core/common_runtime/executor.cc:1197] [/device:CPU:0] (DEBUG INFO) Executor start aborting (this does not indicate an error and you can ignore this message): INVALID_ARGUMENT: You must feed a value for placeholder tensor 'gradients/split_1_grad/concat/split_1/split_dim' with dtype int32\n",
      "\t [[{{node gradients/split_1_grad/concat/split_1/split_dim}}]]\n",
      "2023-12-26 17:02:37.150482: I tensorflow/core/common_runtime/executor.cc:1197] [/device:CPU:0] (DEBUG INFO) Executor start aborting (this does not indicate an error and you can ignore this message): INVALID_ARGUMENT: You must feed a value for placeholder tensor 'gradients/split_2_grad/concat/split_2/split_dim' with dtype int32\n",
      "\t [[{{node gradients/split_2_grad/concat/split_2/split_dim}}]]\n",
      "2023-12-26 17:02:37.152017: I tensorflow/core/common_runtime/executor.cc:1197] [/device:CPU:0] (DEBUG INFO) Executor start aborting (this does not indicate an error and you can ignore this message): INVALID_ARGUMENT: You must feed a value for placeholder tensor 'gradients/split_grad/concat/split/split_dim' with dtype int32\n",
      "\t [[{{node gradients/split_grad/concat/split/split_dim}}]]\n",
      "2023-12-26 17:02:37.154325: I tensorflow/core/common_runtime/executor.cc:1197] [/device:CPU:0] (DEBUG INFO) Executor start aborting (this does not indicate an error and you can ignore this message): INVALID_ARGUMENT: You must feed a value for placeholder tensor 'gradients/split_1_grad/concat/split_1/split_dim' with dtype int32\n",
      "\t [[{{node gradients/split_1_grad/concat/split_1/split_dim}}]]\n",
      "2023-12-26 17:02:37.312498: I tensorflow/core/common_runtime/executor.cc:1197] [/device:CPU:0] (DEBUG INFO) Executor start aborting (this does not indicate an error and you can ignore this message): INVALID_ARGUMENT: You must feed a value for placeholder tensor 'gradients/split_2_grad/concat/split_2/split_dim' with dtype int32\n",
      "\t [[{{node gradients/split_2_grad/concat/split_2/split_dim}}]]\n",
      "2023-12-26 17:02:37.314242: I tensorflow/core/common_runtime/executor.cc:1197] [/device:CPU:0] (DEBUG INFO) Executor start aborting (this does not indicate an error and you can ignore this message): INVALID_ARGUMENT: You must feed a value for placeholder tensor 'gradients/split_grad/concat/split/split_dim' with dtype int32\n",
      "\t [[{{node gradients/split_grad/concat/split/split_dim}}]]\n",
      "2023-12-26 17:02:37.316256: I tensorflow/core/common_runtime/executor.cc:1197] [/device:CPU:0] (DEBUG INFO) Executor start aborting (this does not indicate an error and you can ignore this message): INVALID_ARGUMENT: You must feed a value for placeholder tensor 'gradients/split_1_grad/concat/split_1/split_dim' with dtype int32\n",
      "\t [[{{node gradients/split_1_grad/concat/split_1/split_dim}}]]\n"
     ]
    }
   ],
   "source": [
    "# Создание и построение RNN модели\n",
    "lstm_model = RNNModel()\n",
    "input_shape = (X_train.shape[1], 1)\n",
    "lstm_model.build_model(input_shape)"
   ]
  },
  {
   "cell_type": "code",
   "execution_count": 32,
   "metadata": {
    "cellId": "x9x489i0lydxmy06oxrxq"
   },
   "outputs": [
    {
     "name": "stdout",
     "output_type": "stream",
     "text": [
      "Epoch 1/5\n"
     ]
    },
    {
     "name": "stderr",
     "output_type": "stream",
     "text": [
      "2023-12-26 17:02:38.707125: I tensorflow/core/common_runtime/executor.cc:1197] [/device:CPU:0] (DEBUG INFO) Executor start aborting (this does not indicate an error and you can ignore this message): INVALID_ARGUMENT: You must feed a value for placeholder tensor 'gradients/split_2_grad/concat/split_2/split_dim' with dtype int32\n",
      "\t [[{{node gradients/split_2_grad/concat/split_2/split_dim}}]]\n",
      "2023-12-26 17:02:38.709893: I tensorflow/core/common_runtime/executor.cc:1197] [/device:CPU:0] (DEBUG INFO) Executor start aborting (this does not indicate an error and you can ignore this message): INVALID_ARGUMENT: You must feed a value for placeholder tensor 'gradients/split_grad/concat/split/split_dim' with dtype int32\n",
      "\t [[{{node gradients/split_grad/concat/split/split_dim}}]]\n",
      "2023-12-26 17:02:38.712158: I tensorflow/core/common_runtime/executor.cc:1197] [/device:CPU:0] (DEBUG INFO) Executor start aborting (this does not indicate an error and you can ignore this message): INVALID_ARGUMENT: You must feed a value for placeholder tensor 'gradients/split_1_grad/concat/split_1/split_dim' with dtype int32\n",
      "\t [[{{node gradients/split_1_grad/concat/split_1/split_dim}}]]\n",
      "2023-12-26 17:02:38.876259: I tensorflow/core/common_runtime/executor.cc:1197] [/device:CPU:0] (DEBUG INFO) Executor start aborting (this does not indicate an error and you can ignore this message): INVALID_ARGUMENT: You must feed a value for placeholder tensor 'gradients/split_2_grad/concat/split_2/split_dim' with dtype int32\n",
      "\t [[{{node gradients/split_2_grad/concat/split_2/split_dim}}]]\n",
      "2023-12-26 17:02:38.879143: I tensorflow/core/common_runtime/executor.cc:1197] [/device:CPU:0] (DEBUG INFO) Executor start aborting (this does not indicate an error and you can ignore this message): INVALID_ARGUMENT: You must feed a value for placeholder tensor 'gradients/split_grad/concat/split/split_dim' with dtype int32\n",
      "\t [[{{node gradients/split_grad/concat/split/split_dim}}]]\n",
      "2023-12-26 17:02:38.881155: I tensorflow/core/common_runtime/executor.cc:1197] [/device:CPU:0] (DEBUG INFO) Executor start aborting (this does not indicate an error and you can ignore this message): INVALID_ARGUMENT: You must feed a value for placeholder tensor 'gradients/split_1_grad/concat/split_1/split_dim' with dtype int32\n",
      "\t [[{{node gradients/split_1_grad/concat/split_1/split_dim}}]]\n",
      "2023-12-26 17:02:39.043531: I tensorflow/core/common_runtime/executor.cc:1197] [/device:CPU:0] (DEBUG INFO) Executor start aborting (this does not indicate an error and you can ignore this message): INVALID_ARGUMENT: You must feed a value for placeholder tensor 'gradients/split_2_grad/concat/split_2/split_dim' with dtype int32\n",
      "\t [[{{node gradients/split_2_grad/concat/split_2/split_dim}}]]\n",
      "2023-12-26 17:02:39.045519: I tensorflow/core/common_runtime/executor.cc:1197] [/device:CPU:0] (DEBUG INFO) Executor start aborting (this does not indicate an error and you can ignore this message): INVALID_ARGUMENT: You must feed a value for placeholder tensor 'gradients/split_grad/concat/split/split_dim' with dtype int32\n",
      "\t [[{{node gradients/split_grad/concat/split/split_dim}}]]\n",
      "2023-12-26 17:02:39.047336: I tensorflow/core/common_runtime/executor.cc:1197] [/device:CPU:0] (DEBUG INFO) Executor start aborting (this does not indicate an error and you can ignore this message): INVALID_ARGUMENT: You must feed a value for placeholder tensor 'gradients/split_1_grad/concat/split_1/split_dim' with dtype int32\n",
      "\t [[{{node gradients/split_1_grad/concat/split_1/split_dim}}]]\n",
      "2023-12-26 17:02:40.045758: I tensorflow/core/common_runtime/executor.cc:1197] [/device:CPU:0] (DEBUG INFO) Executor start aborting (this does not indicate an error and you can ignore this message): INVALID_ARGUMENT: You must feed a value for placeholder tensor 'gradients/split_2_grad/concat/split_2/split_dim' with dtype int32\n",
      "\t [[{{node gradients/split_2_grad/concat/split_2/split_dim}}]]\n",
      "2023-12-26 17:02:40.047709: I tensorflow/core/common_runtime/executor.cc:1197] [/device:CPU:0] (DEBUG INFO) Executor start aborting (this does not indicate an error and you can ignore this message): INVALID_ARGUMENT: You must feed a value for placeholder tensor 'gradients/split_grad/concat/split/split_dim' with dtype int32\n",
      "\t [[{{node gradients/split_grad/concat/split/split_dim}}]]\n",
      "2023-12-26 17:02:40.050293: I tensorflow/core/common_runtime/executor.cc:1197] [/device:CPU:0] (DEBUG INFO) Executor start aborting (this does not indicate an error and you can ignore this message): INVALID_ARGUMENT: You must feed a value for placeholder tensor 'gradients/split_1_grad/concat/split_1/split_dim' with dtype int32\n",
      "\t [[{{node gradients/split_1_grad/concat/split_1/split_dim}}]]\n",
      "2023-12-26 17:02:40.213229: I tensorflow/core/common_runtime/executor.cc:1197] [/device:CPU:0] (DEBUG INFO) Executor start aborting (this does not indicate an error and you can ignore this message): INVALID_ARGUMENT: You must feed a value for placeholder tensor 'gradients/split_2_grad/concat/split_2/split_dim' with dtype int32\n",
      "\t [[{{node gradients/split_2_grad/concat/split_2/split_dim}}]]\n",
      "2023-12-26 17:02:40.214997: I tensorflow/core/common_runtime/executor.cc:1197] [/device:CPU:0] (DEBUG INFO) Executor start aborting (this does not indicate an error and you can ignore this message): INVALID_ARGUMENT: You must feed a value for placeholder tensor 'gradients/split_grad/concat/split/split_dim' with dtype int32\n",
      "\t [[{{node gradients/split_grad/concat/split/split_dim}}]]\n",
      "2023-12-26 17:02:40.217167: I tensorflow/core/common_runtime/executor.cc:1197] [/device:CPU:0] (DEBUG INFO) Executor start aborting (this does not indicate an error and you can ignore this message): INVALID_ARGUMENT: You must feed a value for placeholder tensor 'gradients/split_1_grad/concat/split_1/split_dim' with dtype int32\n",
      "\t [[{{node gradients/split_1_grad/concat/split_1/split_dim}}]]\n",
      "2023-12-26 17:02:40.378689: I tensorflow/core/common_runtime/executor.cc:1197] [/device:CPU:0] (DEBUG INFO) Executor start aborting (this does not indicate an error and you can ignore this message): INVALID_ARGUMENT: You must feed a value for placeholder tensor 'gradients/split_2_grad/concat/split_2/split_dim' with dtype int32\n",
      "\t [[{{node gradients/split_2_grad/concat/split_2/split_dim}}]]\n",
      "2023-12-26 17:02:40.380318: I tensorflow/core/common_runtime/executor.cc:1197] [/device:CPU:0] (DEBUG INFO) Executor start aborting (this does not indicate an error and you can ignore this message): INVALID_ARGUMENT: You must feed a value for placeholder tensor 'gradients/split_grad/concat/split/split_dim' with dtype int32\n",
      "\t [[{{node gradients/split_grad/concat/split/split_dim}}]]\n",
      "2023-12-26 17:02:40.381897: I tensorflow/core/common_runtime/executor.cc:1197] [/device:CPU:0] (DEBUG INFO) Executor start aborting (this does not indicate an error and you can ignore this message): INVALID_ARGUMENT: You must feed a value for placeholder tensor 'gradients/split_1_grad/concat/split_1/split_dim' with dtype int32\n",
      "\t [[{{node gradients/split_1_grad/concat/split_1/split_dim}}]]\n"
     ]
    },
    {
     "name": "stdout",
     "output_type": "stream",
     "text": [
      "65/65 [==============================] - 1572s 24s/step - loss: 0.1088 - accuracy: 0.8776\n",
      "Epoch 2/5\n",
      "65/65 [==============================] - 1570s 24s/step - loss: 0.1080 - accuracy: 0.8776\n",
      "Epoch 3/5\n",
      "65/65 [==============================] - 1576s 24s/step - loss: 0.1081 - accuracy: 0.8776\n",
      "Epoch 4/5\n",
      "65/65 [==============================] - 1574s 24s/step - loss: 0.1078 - accuracy: 0.8776\n",
      "Epoch 5/5\n",
      "65/65 [==============================] - 1556s 24s/step - loss: 0.1078 - accuracy: 0.8776\n"
     ]
    }
   ],
   "source": [
    "# Обучение модели\n",
    "lstm_model.train_model(X_train.toarray(), y_train, epochs = 5, batch_size = 64)"
   ]
  },
  {
   "attachments": {},
   "cell_type": "markdown",
   "metadata": {},
   "source": [
    "Подытожить можно тем, что модель показала 87%, при этом функция ошибки хоть и немного, но уменьшалась на каждой из эпох.  \n",
    "И в итоге составила 0.1078, что является лучшим результатом из имеющихся.  \n",
    "Спасибо за внимание!"
   ]
  }
 ],
 "metadata": {
  "language_info": {
   "codemirror_mode": {
    "name": "ipython",
    "version": 3
   },
   "file_extension": ".py",
   "mimetype": "text/x-python",
   "name": "python",
   "nbconvert_exporter": "python",
   "pygments_lexer": "ipython3",
   "version": "3.7.7"
  },
  "notebookId": "d7595dca-39a1-4ce1-8716-2f3e968a5ee4",
  "notebookPath": "Email_classification.ipynb"
 },
 "nbformat": 4,
 "nbformat_minor": 4
}
